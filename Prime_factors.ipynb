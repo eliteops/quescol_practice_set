{
 "cells": [
  {
   "cell_type": "code",
   "execution_count": 22,
   "id": "3218a456-a6cf-4def-8507-e10f71b5a9b8",
   "metadata": {},
   "outputs": [
    {
     "name": "stdin",
     "output_type": "stream",
     "text": [
      "enter to check wheather it is prime factors or not ?\n",
      " 40\n"
     ]
    },
    {
     "name": "stdout",
     "output_type": "stream",
     "text": [
      "1 2 5 "
     ]
    }
   ],
   "source": [
    "num = int(input('enter to check wheather it is prime factors or not ?\\n'))\n",
    "for digit in range(1, num//2+1):          # first loop used to find the factors of given num to the half of num\n",
    "                                           # for ex. if num is 24 then loop will go up to the \n",
    "                                            #half 12 and 1 is added because range fun() consider 1 less\n",
    "            \n",
    "    if num % digit == 0:                  # checking which digit can divide that num \n",
    "                                          \n",
    "        flag = 0                           # and declaring flag = 0, to get only prime factors because if factor is divisible by others \n",
    "                                           # then it will not be prime because prime factors should only divisible by itself.\n",
    "            \n",
    "        for j in range(2, digit//2+1):     # understand this as previous for loop in comment , \n",
    "                                            # here we are dividing that factor if it is divisible by others then flag = 1,\n",
    "                                            # and will be not consider in prime factors.\n",
    "            if digit % j == 0:\n",
    "                flag = 1\n",
    "                break\n",
    "        if flag == 0:                      # digit with flag = 1 will be printed as prime factors.\n",
    "            print(digit, end = ' ') "
   ]
  },
  {
   "cell_type": "code",
   "execution_count": null,
   "id": "76a8c818-1e78-4fc4-b9a9-f03dd74789cc",
   "metadata": {},
   "outputs": [],
   "source": []
  }
 ],
 "metadata": {
  "kernelspec": {
   "display_name": "Python 3 (ipykernel)",
   "language": "python",
   "name": "python3"
  },
  "language_info": {
   "codemirror_mode": {
    "name": "ipython",
    "version": 3
   },
   "file_extension": ".py",
   "mimetype": "text/x-python",
   "name": "python",
   "nbconvert_exporter": "python",
   "pygments_lexer": "ipython3",
   "version": "3.10.5"
  }
 },
 "nbformat": 4,
 "nbformat_minor": 5
}
